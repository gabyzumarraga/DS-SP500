{
 "cells": [
  {
   "cell_type": "markdown",
   "id": "89542e39",
   "metadata": {},
   "source": [
    "# Modeling"
   ]
  },
  {
   "cell_type": "markdown",
   "id": "e81ec6a8",
   "metadata": {},
   "source": [
    "## Carga de datos"
   ]
  },
  {
   "cell_type": "code",
   "execution_count": null,
   "id": "cdb3e2a1",
   "metadata": {},
   "outputs": [],
   "source": [
    "import pandas as pd\n",
    "import matplotlib.pyplot as plt\n",
    "import seaborn as sns\n",
    "\n",
    "from sklearn.model_selection import train_test_split\n",
    "from sklearn.linear_model import LogisticRegression\n",
    "from sklearn.tree import DecisionTreeClassifier"
   ]
  },
  {
   "cell_type": "code",
   "execution_count": null,
   "id": "8e593e9e",
   "metadata": {},
   "outputs": [],
   "source": [
    "# Load the dataset\n",
    "df_curated_stocks = pd.read_csv('../data/curated/df_curated_stocks.csv')"
   ]
  },
  {
   "cell_type": "code",
   "execution_count": null,
   "id": "cf0d22bd",
   "metadata": {},
   "outputs": [],
   "source": [
    "df_curated_stocks.info(show_counts=True)"
   ]
  },
  {
   "cell_type": "code",
   "execution_count": null,
   "id": "ae5eacff",
   "metadata": {},
   "outputs": [],
   "source": [
    "df_curated_stocks.head()"
   ]
  },
  {
   "cell_type": "code",
   "execution_count": null,
   "id": "40bba148",
   "metadata": {},
   "outputs": [],
   "source": [
    "# Quitar nans\n",
    "df_curated_stocks.dropna(inplace=True)\n",
    "\n",
    "# Verificar\n",
    "df_curated_stocks.info(show_counts=True)"
   ]
  },
  {
   "cell_type": "markdown",
   "id": "4167ea78",
   "metadata": {},
   "source": [
    "## Clasificacion"
   ]
  },
  {
   "cell_type": "markdown",
   "id": "2a365e46",
   "metadata": {},
   "source": [
    "La predicción de si una acción sube o baja es un problema de clasificación, ya que el objetivo es asignar una etiqueta discreta (por ejemplo, 1 si sube y 0 si baja). Por lo que se probaran algunos modelos para analizar que tan bien se ajustan al probelma. Por ejemplo se probaran:  \n",
    "- Regresión Logística, \n",
    "- Árboles de Decisión \n",
    "- Random Forest \n",
    "- Ensambladores de Boosting "
   ]
  },
  {
   "cell_type": "code",
   "execution_count": null,
   "id": "6275b348",
   "metadata": {},
   "outputs": [],
   "source": [
    "# Contar el total de acciones subiendo y bajando\n",
    "df_curated_stocks['Accion_Sube'].value_counts()"
   ]
  },
  {
   "cell_type": "code",
   "execution_count": null,
   "id": "70cf5015",
   "metadata": {},
   "outputs": [],
   "source": [
    "# Porcentaje\n",
    "480569/1392123  "
   ]
  },
  {
   "cell_type": "code",
   "execution_count": null,
   "id": "e2dd5053",
   "metadata": {},
   "outputs": [],
   "source": [
    "# Split dataset (train y test)\n",
    "train, test = train_test_split(df_curated_stocks, test_size=0.20, random_state=12345)"
   ]
  },
  {
   "cell_type": "code",
   "execution_count": null,
   "id": "f11cd16d",
   "metadata": {},
   "outputs": [],
   "source": [
    "# Quitar la columna que quiero predecir de ambos sets\n",
    "train_caracteristica = train.drop(['Accion_Sube', 'Symbol'], axis=1)\n",
    "train_objetivo = train['Accion_Sube']\n",
    "\n",
    "test_caracteristica = test.drop(['Accion_Sube', 'Symbol'], axis=1)\n",
    "test_objetivo = test['Accion_Sube']\n"
   ]
  },
  {
   "cell_type": "code",
   "execution_count": null,
   "id": "98e67ee2",
   "metadata": {},
   "outputs": [],
   "source": [
    "train_objetivo\n"
   ]
  },
  {
   "cell_type": "markdown",
   "id": "f73f9c0f",
   "metadata": {},
   "source": [
    "### Regresion Logistica"
   ]
  },
  {
   "cell_type": "code",
   "execution_count": null,
   "id": "12ddeaee",
   "metadata": {},
   "outputs": [],
   "source": [
    "# Regresion Logistica\n",
    "reg_log = LogisticRegression(random_state=12345)"
   ]
  },
  {
   "cell_type": "code",
   "execution_count": null,
   "id": "69f3ccf3",
   "metadata": {},
   "outputs": [],
   "source": [
    "# Entrenamiento del modelo\n",
    "reg_log.fit(train_caracteristica, train_objetivo)"
   ]
  },
  {
   "cell_type": "code",
   "execution_count": null,
   "id": "45b607d2",
   "metadata": {},
   "outputs": [],
   "source": [
    "reg_log.predict(train_caracteristica)\n"
   ]
  },
  {
   "cell_type": "code",
   "execution_count": null,
   "id": "b1799e34",
   "metadata": {},
   "outputs": [],
   "source": [
    "prediccion_train = reg_log.predict(train_caracteristica)\n",
    "\n",
    "for valor in prediccion_train:\n",
    "    if valor == 0:\n",
    "        print('La accion bajo')\n",
    "    elif valor == 1:\n",
    "        print('La accion subio')\n"
   ]
  },
  {
   "cell_type": "code",
   "execution_count": null,
   "id": "a5a50145",
   "metadata": {},
   "outputs": [],
   "source": [
    "prediccion_test = reg_log.predict(test_caracteristica)\n",
    "\n",
    "for valor in prediccion_test:\n",
    "    if valor == 0:\n",
    "        print('La accion bajo')\n",
    "    elif valor == 1:\n",
    "        print('La accion subio')"
   ]
  },
  {
   "cell_type": "code",
   "execution_count": null,
   "id": "a2f79494",
   "metadata": {},
   "outputs": [],
   "source": [
    "# Datos de entrenamiento\n",
    "reg_log.score(train_caracteristica, train_objetivo)"
   ]
  },
  {
   "cell_type": "code",
   "execution_count": null,
   "id": "fb591105",
   "metadata": {},
   "outputs": [],
   "source": [
    "# Datos de test\n",
    "reg_log.score(test_caracteristica, test_objetivo)"
   ]
  },
  {
   "cell_type": "markdown",
   "id": "faa0b677",
   "metadata": {},
   "source": [
    "**Precision**\n",
    "\n",
    "El modelo tiene una precision de 0.9987 para los datos de entrenamiento\n",
    "\n",
    "El modelo tiene una precision de 0.9986 para los datos de prueba\n",
    "\n",
    "**Clasificacion:**\n",
    "\n",
    "- Sube la accion: 1\n",
    "- Baja la accion: 0\n",
    "\n",
    "Buenos: VP - VN\n",
    "\n",
    "Malos: FP - FN\n",
    "\n",
    "VP: El modelo predice que sube la accion -> y en la realidad sube la accion\n",
    "VN: El modelo predice que baja la aacion -> y en la realidad baja la accion\n",
    "FP: El modelo predice que sube la accion -> y en la realidad baja la accion\n",
    "FN: El modelo predice que baja la accion -> y en la realidad sube la accion"
   ]
  },
  {
   "cell_type": "markdown",
   "id": "b2f81a20",
   "metadata": {},
   "source": [
    "### Arboles de decision"
   ]
  },
  {
   "cell_type": "code",
   "execution_count": null,
   "id": "c4a4ddd8",
   "metadata": {},
   "outputs": [],
   "source": [
    "arbol_clf = DecisionTreeClassifier()"
   ]
  },
  {
   "cell_type": "code",
   "execution_count": null,
   "id": "6a892380",
   "metadata": {},
   "outputs": [],
   "source": [
    "arbol_clf.fit(train_caracteristica, train_objetivo)"
   ]
  },
  {
   "cell_type": "code",
   "execution_count": null,
   "id": "deb1f640",
   "metadata": {},
   "outputs": [],
   "source": [
    "arbol_clf.score(train_caracteristica, train_objetivo)"
   ]
  },
  {
   "cell_type": "code",
   "execution_count": null,
   "id": "e11ce32d",
   "metadata": {},
   "outputs": [],
   "source": [
    "arbol_predict_entrenamiento = arbol_clf.predict(train_caracteristica)"
   ]
  },
  {
   "cell_type": "code",
   "execution_count": null,
   "id": "c3b077c7",
   "metadata": {},
   "outputs": [],
   "source": [
    "for valor in arbol_predict_entrenamiento:\n",
    "    if valor == 0:\n",
    "        print('Predice que baja la accion')\n",
    "    elif valor == 1:\n",
    "        print('Predice que sube la accion')"
   ]
  },
  {
   "cell_type": "code",
   "execution_count": null,
   "id": "aae11ccd",
   "metadata": {},
   "outputs": [],
   "source": [
    "reg_log.coef_"
   ]
  },
  {
   "cell_type": "code",
   "execution_count": null,
   "id": "3863bb18",
   "metadata": {},
   "outputs": [],
   "source": [
    "reg_log.intercept_"
   ]
  },
  {
   "cell_type": "markdown",
   "id": "6060dbf0",
   "metadata": {},
   "source": [
    "### Random Forest"
   ]
  },
  {
   "cell_type": "markdown",
   "id": "da25c1c1",
   "metadata": {},
   "source": [
    "### Ensambladores de boosting"
   ]
  }
 ],
 "metadata": {
  "kernelspec": {
   "display_name": "Python 3",
   "language": "python",
   "name": "python3"
  },
  "language_info": {
   "codemirror_mode": {
    "name": "ipython",
    "version": 3
   },
   "file_extension": ".py",
   "mimetype": "text/x-python",
   "name": "python",
   "nbconvert_exporter": "python",
   "pygments_lexer": "ipython3",
   "version": "3.12.4"
  }
 },
 "nbformat": 4,
 "nbformat_minor": 5
}
