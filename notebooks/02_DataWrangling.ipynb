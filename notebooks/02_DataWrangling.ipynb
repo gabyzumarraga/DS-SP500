{
 "cells": [
  {
   "cell_type": "markdown",
   "metadata": {},
   "source": [
    "# Data Wrangling"
   ]
  },
  {
   "cell_type": "markdown",
   "metadata": {},
   "source": [
    "## Preparacion de datos"
   ]
  },
  {
   "cell_type": "markdown",
   "metadata": {},
   "source": [
    "### Carga de datos"
   ]
  },
  {
   "cell_type": "code",
   "execution_count": 149,
   "metadata": {},
   "outputs": [],
   "source": [
    "import pandas as pd\n",
    "import numpy as np\n",
    "import matplotlib.pyplot as plt\n",
    "import seaborn as sns"
   ]
  },
  {
   "cell_type": "code",
   "execution_count": 150,
   "metadata": {},
   "outputs": [],
   "source": [
    "# Load the dataset\n",
    "df_clean_companies = pd.read_csv('../data/raw/sp500_companies.csv')\n",
    "df_clean_index = pd.read_csv('../data/raw/sp500_index.csv')\n",
    "df_clean_stocks = pd.read_csv('../data/raw/sp500_stocks.csv')"
   ]
  },
  {
   "cell_type": "markdown",
   "metadata": {},
   "source": [
    "### Preparacion de los datos df_raw_companies"
   ]
  },
  {
   "cell_type": "code",
   "execution_count": 151,
   "metadata": {},
   "outputs": [
    {
     "data": {
      "text/html": [
       "<div>\n",
       "<style scoped>\n",
       "    .dataframe tbody tr th:only-of-type {\n",
       "        vertical-align: middle;\n",
       "    }\n",
       "\n",
       "    .dataframe tbody tr th {\n",
       "        vertical-align: top;\n",
       "    }\n",
       "\n",
       "    .dataframe thead th {\n",
       "        text-align: right;\n",
       "    }\n",
       "</style>\n",
       "<table border=\"1\" class=\"dataframe\">\n",
       "  <thead>\n",
       "    <tr style=\"text-align: right;\">\n",
       "      <th></th>\n",
       "      <th>Exchange</th>\n",
       "      <th>Symbol</th>\n",
       "      <th>Shortname</th>\n",
       "      <th>Longname</th>\n",
       "      <th>Sector</th>\n",
       "      <th>Industry</th>\n",
       "      <th>Currentprice</th>\n",
       "      <th>Marketcap</th>\n",
       "      <th>Ebitda</th>\n",
       "      <th>Revenuegrowth</th>\n",
       "      <th>City</th>\n",
       "      <th>State</th>\n",
       "      <th>Country</th>\n",
       "      <th>Fulltimeemployees</th>\n",
       "      <th>Longbusinesssummary</th>\n",
       "      <th>Weight</th>\n",
       "    </tr>\n",
       "  </thead>\n",
       "  <tbody>\n",
       "    <tr>\n",
       "      <th>0</th>\n",
       "      <td>NMS</td>\n",
       "      <td>AAPL</td>\n",
       "      <td>Apple Inc.</td>\n",
       "      <td>Apple Inc.</td>\n",
       "      <td>Technology</td>\n",
       "      <td>Consumer Electronics</td>\n",
       "      <td>254.49</td>\n",
       "      <td>3846819807232</td>\n",
       "      <td>1.346610e+11</td>\n",
       "      <td>0.061</td>\n",
       "      <td>Cupertino</td>\n",
       "      <td>CA</td>\n",
       "      <td>United States</td>\n",
       "      <td>164000.0</td>\n",
       "      <td>Apple Inc. designs, manufactures, and markets ...</td>\n",
       "      <td>0.069209</td>\n",
       "    </tr>\n",
       "    <tr>\n",
       "      <th>1</th>\n",
       "      <td>NMS</td>\n",
       "      <td>NVDA</td>\n",
       "      <td>NVIDIA Corporation</td>\n",
       "      <td>NVIDIA Corporation</td>\n",
       "      <td>Technology</td>\n",
       "      <td>Semiconductors</td>\n",
       "      <td>134.70</td>\n",
       "      <td>3298803056640</td>\n",
       "      <td>6.118400e+10</td>\n",
       "      <td>1.224</td>\n",
       "      <td>Santa Clara</td>\n",
       "      <td>CA</td>\n",
       "      <td>United States</td>\n",
       "      <td>29600.0</td>\n",
       "      <td>NVIDIA Corporation provides graphics and compu...</td>\n",
       "      <td>0.059350</td>\n",
       "    </tr>\n",
       "    <tr>\n",
       "      <th>2</th>\n",
       "      <td>NMS</td>\n",
       "      <td>MSFT</td>\n",
       "      <td>Microsoft Corporation</td>\n",
       "      <td>Microsoft Corporation</td>\n",
       "      <td>Technology</td>\n",
       "      <td>Software - Infrastructure</td>\n",
       "      <td>436.60</td>\n",
       "      <td>3246068596736</td>\n",
       "      <td>1.365520e+11</td>\n",
       "      <td>0.160</td>\n",
       "      <td>Redmond</td>\n",
       "      <td>WA</td>\n",
       "      <td>United States</td>\n",
       "      <td>228000.0</td>\n",
       "      <td>Microsoft Corporation develops and supports so...</td>\n",
       "      <td>0.058401</td>\n",
       "    </tr>\n",
       "    <tr>\n",
       "      <th>3</th>\n",
       "      <td>NMS</td>\n",
       "      <td>AMZN</td>\n",
       "      <td>Amazon.com, Inc.</td>\n",
       "      <td>Amazon.com, Inc.</td>\n",
       "      <td>Consumer Cyclical</td>\n",
       "      <td>Internet Retail</td>\n",
       "      <td>224.92</td>\n",
       "      <td>2365033807872</td>\n",
       "      <td>1.115830e+11</td>\n",
       "      <td>0.110</td>\n",
       "      <td>Seattle</td>\n",
       "      <td>WA</td>\n",
       "      <td>United States</td>\n",
       "      <td>1551000.0</td>\n",
       "      <td>Amazon.com, Inc. engages in the retail sale of...</td>\n",
       "      <td>0.042550</td>\n",
       "    </tr>\n",
       "    <tr>\n",
       "      <th>4</th>\n",
       "      <td>NMS</td>\n",
       "      <td>GOOGL</td>\n",
       "      <td>Alphabet Inc.</td>\n",
       "      <td>Alphabet Inc.</td>\n",
       "      <td>Communication Services</td>\n",
       "      <td>Internet Content &amp; Information</td>\n",
       "      <td>191.41</td>\n",
       "      <td>2351625142272</td>\n",
       "      <td>1.234700e+11</td>\n",
       "      <td>0.151</td>\n",
       "      <td>Mountain View</td>\n",
       "      <td>CA</td>\n",
       "      <td>United States</td>\n",
       "      <td>181269.0</td>\n",
       "      <td>Alphabet Inc. offers various products and plat...</td>\n",
       "      <td>0.042309</td>\n",
       "    </tr>\n",
       "  </tbody>\n",
       "</table>\n",
       "</div>"
      ],
      "text/plain": [
       "  Exchange Symbol              Shortname               Longname  \\\n",
       "0      NMS   AAPL             Apple Inc.             Apple Inc.   \n",
       "1      NMS   NVDA     NVIDIA Corporation     NVIDIA Corporation   \n",
       "2      NMS   MSFT  Microsoft Corporation  Microsoft Corporation   \n",
       "3      NMS   AMZN       Amazon.com, Inc.       Amazon.com, Inc.   \n",
       "4      NMS  GOOGL          Alphabet Inc.          Alphabet Inc.   \n",
       "\n",
       "                   Sector                        Industry  Currentprice  \\\n",
       "0              Technology            Consumer Electronics        254.49   \n",
       "1              Technology                  Semiconductors        134.70   \n",
       "2              Technology       Software - Infrastructure        436.60   \n",
       "3       Consumer Cyclical                 Internet Retail        224.92   \n",
       "4  Communication Services  Internet Content & Information        191.41   \n",
       "\n",
       "       Marketcap        Ebitda  Revenuegrowth           City State  \\\n",
       "0  3846819807232  1.346610e+11          0.061      Cupertino    CA   \n",
       "1  3298803056640  6.118400e+10          1.224    Santa Clara    CA   \n",
       "2  3246068596736  1.365520e+11          0.160        Redmond    WA   \n",
       "3  2365033807872  1.115830e+11          0.110        Seattle    WA   \n",
       "4  2351625142272  1.234700e+11          0.151  Mountain View    CA   \n",
       "\n",
       "         Country  Fulltimeemployees  \\\n",
       "0  United States           164000.0   \n",
       "1  United States            29600.0   \n",
       "2  United States           228000.0   \n",
       "3  United States          1551000.0   \n",
       "4  United States           181269.0   \n",
       "\n",
       "                                 Longbusinesssummary    Weight  \n",
       "0  Apple Inc. designs, manufactures, and markets ...  0.069209  \n",
       "1  NVIDIA Corporation provides graphics and compu...  0.059350  \n",
       "2  Microsoft Corporation develops and supports so...  0.058401  \n",
       "3  Amazon.com, Inc. engages in the retail sale of...  0.042550  \n",
       "4  Alphabet Inc. offers various products and plat...  0.042309  "
      ]
     },
     "execution_count": 151,
     "metadata": {},
     "output_type": "execute_result"
    }
   ],
   "source": [
    "df_clean_companies.head()"
   ]
  },
  {
   "cell_type": "markdown",
   "metadata": {},
   "source": [
    "#### Limpieza"
   ]
  },
  {
   "cell_type": "markdown",
   "metadata": {},
   "source": [
    "##### Valores duplicados"
   ]
  },
  {
   "cell_type": "code",
   "execution_count": 152,
   "metadata": {},
   "outputs": [
    {
     "name": "stdout",
     "output_type": "stream",
     "text": [
      "Número de filas duplicadas: 0\n"
     ]
    }
   ],
   "source": [
    "# Verificar duplicados \n",
    "duplicados = df_clean_companies.duplicated().sum()\n",
    "print(f\"Número de filas duplicadas: {duplicados}\")"
   ]
  },
  {
   "cell_type": "markdown",
   "metadata": {},
   "source": [
    "##### Valores unicos"
   ]
  },
  {
   "cell_type": "code",
   "execution_count": 153,
   "metadata": {},
   "outputs": [
    {
     "name": "stdout",
     "output_type": "stream",
     "text": [
      "Número de valores únicos por columna:\n",
      "Exchange                 4\n",
      "Symbol                 502\n",
      "Shortname              499\n",
      "Longname               499\n",
      "Sector                  11\n",
      "Industry               114\n",
      "Currentprice           499\n",
      "Marketcap              502\n",
      "Ebitda                 469\n",
      "Revenuegrowth          260\n",
      "City                   235\n",
      "State                   41\n",
      "Country                  8\n",
      "Fulltimeemployees      387\n",
      "Longbusinesssummary    499\n",
      "Weight                 502\n",
      "dtype: int64\n"
     ]
    }
   ],
   "source": [
    "# Verificar el número de valores únicos por columna\n",
    "valores_unicos = df_clean_companies.nunique()\n",
    "print(\"Número de valores únicos por columna:\")\n",
    "print(valores_unicos)"
   ]
  },
  {
   "cell_type": "code",
   "execution_count": 154,
   "metadata": {},
   "outputs": [
    {
     "name": "stdout",
     "output_type": "stream",
     "text": [
      "Valores únicos en la columna:\n",
      "['Technology' 'Consumer Cyclical' 'Communication Services'\n",
      " 'Financial Services' 'Consumer Defensive' 'Healthcare' 'Energy'\n",
      " 'Basic Materials' 'Industrials' 'Utilities' 'Real Estate']\n"
     ]
    }
   ],
   "source": [
    "# Verificar los valores únicos de una columna ej Sector\n",
    "valores_unicos_sector = df_clean_companies['Sector'].unique()\n",
    "print(\"Valores únicos en la columna:\")\n",
    "print(valores_unicos_sector)"
   ]
  },
  {
   "cell_type": "markdown",
   "metadata": {},
   "source": [
    "##### Valores nulos"
   ]
  },
  {
   "cell_type": "code",
   "execution_count": 155,
   "metadata": {},
   "outputs": [
    {
     "name": "stdout",
     "output_type": "stream",
     "text": [
      "Valores nulos por columna:\n",
      "Ebitda               29\n",
      "Revenuegrowth         3\n",
      "State                20\n",
      "Fulltimeemployees     9\n",
      "dtype: int64\n",
      "\n",
      "Porcentaje de valores nulos por columna:\n",
      "Ebitda               5.776892\n",
      "Revenuegrowth        0.597610\n",
      "State                3.984064\n",
      "Fulltimeemployees    1.792829\n",
      "dtype: float64\n"
     ]
    }
   ],
   "source": [
    "# Verificar valores nulos\n",
    "valores_nulos = df_clean_companies.isnull().sum()\n",
    "print(\"Valores nulos por columna:\")\n",
    "valores_nulos = valores_nulos[valores_nulos > 0]\n",
    "print(valores_nulos)\n",
    "\n",
    "# Porcentaje de valores nulos por columna\n",
    "porcentaje_nulos = (df_clean_companies.isnull().sum() / len(df_clean_companies)) * 100\n",
    "print(\"\\nPorcentaje de valores nulos por columna:\")\n",
    "porcentaje_nulos = porcentaje_nulos[porcentaje_nulos > 0]\n",
    "print(porcentaje_nulos)"
   ]
  },
  {
   "cell_type": "markdown",
   "metadata": {},
   "source": [
    "Al ver que el porcentaje de valores nulos es bajo, podemos toomar las siguientes acciones para cada variable:\n",
    "- Ebitda: imputar valores con la mediana\n",
    "- Revenuegrowth: imputar valores basados en el crecimiento promedio de la industria\n",
    "- State: se puede tratar como una categoria separada \"Desconocido\"\n",
    "- Fulltimeemployees: imputar valores con la media del sector\n"
   ]
  },
  {
   "cell_type": "code",
   "execution_count": 156,
   "metadata": {},
   "outputs": [
    {
     "name": "stderr",
     "output_type": "stream",
     "text": [
      "C:\\Users\\gabyz\\AppData\\Local\\Temp\\ipykernel_13224\\1729402439.py:2: FutureWarning: A value is trying to be set on a copy of a DataFrame or Series through chained assignment using an inplace method.\n",
      "The behavior will change in pandas 3.0. This inplace method will never work because the intermediate object on which we are setting values always behaves as a copy.\n",
      "\n",
      "For example, when doing 'df[col].method(value, inplace=True)', try using 'df.method({col: value}, inplace=True)' or df[col] = df[col].method(value) instead, to perform the operation inplace on the original object.\n",
      "\n",
      "\n",
      "  df_clean_companies['Ebitda'].fillna(df_clean_companies['Ebitda'].median(), inplace=True)\n",
      "C:\\Users\\gabyz\\AppData\\Local\\Temp\\ipykernel_13224\\1729402439.py:10: FutureWarning: A value is trying to be set on a copy of a DataFrame or Series through chained assignment using an inplace method.\n",
      "The behavior will change in pandas 3.0. This inplace method will never work because the intermediate object on which we are setting values always behaves as a copy.\n",
      "\n",
      "For example, when doing 'df[col].method(value, inplace=True)', try using 'df.method({col: value}, inplace=True)' or df[col] = df[col].method(value) instead, to perform the operation inplace on the original object.\n",
      "\n",
      "\n",
      "  df_clean_companies['State'].fillna('Desconocido', inplace=True)\n"
     ]
    }
   ],
   "source": [
    "# 'Ebitda' con la mediana\n",
    "df_clean_companies['Ebitda'].fillna(df_clean_companies['Ebitda'].median(), inplace=True)\n",
    "\n",
    "# 'Revenuegrowth' con el promedio del industria\n",
    "df_clean_companies['Revenuegrowth'] = df_clean_companies.groupby('Industry')['Revenuegrowth'].transform(\n",
    "    lambda x: x.fillna(x.mean())\n",
    ")\n",
    "\n",
    "# 'State' con la categoría \"Desconocido\"\n",
    "df_clean_companies['State'].fillna('Desconocido', inplace=True)\n",
    "\n",
    "# 'Fulltimeemployees' con la media del sector\n",
    "df_clean_companies['Fulltimeemployees'] = df_clean_companies.groupby('Sector')['Fulltimeemployees'].transform(\n",
    "    lambda x: x.fillna(x.mean())\n",
    ")"
   ]
  },
  {
   "cell_type": "code",
   "execution_count": 157,
   "metadata": {},
   "outputs": [
    {
     "name": "stdout",
     "output_type": "stream",
     "text": [
      "Valores nulos por columna:\n",
      "Series([], dtype: int64)\n"
     ]
    }
   ],
   "source": [
    "# Verificar valores nulos\n",
    "valores_nulos = df_clean_companies.isnull().sum()\n",
    "print(\"Valores nulos por columna:\")\n",
    "valores_nulos = valores_nulos[valores_nulos > 0]\n",
    "print(valores_nulos)"
   ]
  },
  {
   "cell_type": "markdown",
   "metadata": {},
   "source": [
    "#### Transformacion"
   ]
  },
  {
   "cell_type": "code",
   "execution_count": 158,
   "metadata": {},
   "outputs": [
    {
     "name": "stdout",
     "output_type": "stream",
     "text": [
      "Exchange                object\n",
      "Symbol                  object\n",
      "Shortname               object\n",
      "Longname                object\n",
      "Sector                  object\n",
      "Industry                object\n",
      "Currentprice           float64\n",
      "Marketcap                int64\n",
      "Ebitda                 float64\n",
      "Revenuegrowth          float64\n",
      "City                    object\n",
      "State                   object\n",
      "Country                 object\n",
      "Fulltimeemployees        int64\n",
      "Longbusinesssummary     object\n",
      "Weight                 float64\n",
      "dtype: object\n"
     ]
    }
   ],
   "source": [
    "# Transformacion de datos (Fulltimeemployees, Marketcap) a int \n",
    "df_clean_companies['Fulltimeemployees'] = df_clean_companies['Fulltimeemployees'].astype('int')\n",
    "df_clean_companies['Marketcap'] = df_clean_companies['Marketcap'].astype('int')\n",
    "\n",
    "# Verificar los cambios\n",
    "print(df_clean_companies.dtypes)"
   ]
  },
  {
   "cell_type": "markdown",
   "metadata": {},
   "source": [
    "### Preparacion de los datos df_raw_index"
   ]
  },
  {
   "cell_type": "code",
   "execution_count": 159,
   "metadata": {},
   "outputs": [
    {
     "data": {
      "text/html": [
       "<div>\n",
       "<style scoped>\n",
       "    .dataframe tbody tr th:only-of-type {\n",
       "        vertical-align: middle;\n",
       "    }\n",
       "\n",
       "    .dataframe tbody tr th {\n",
       "        vertical-align: top;\n",
       "    }\n",
       "\n",
       "    .dataframe thead th {\n",
       "        text-align: right;\n",
       "    }\n",
       "</style>\n",
       "<table border=\"1\" class=\"dataframe\">\n",
       "  <thead>\n",
       "    <tr style=\"text-align: right;\">\n",
       "      <th></th>\n",
       "      <th>Date</th>\n",
       "      <th>S&amp;P500</th>\n",
       "    </tr>\n",
       "  </thead>\n",
       "  <tbody>\n",
       "    <tr>\n",
       "      <th>0</th>\n",
       "      <td>2014-12-22</td>\n",
       "      <td>2078.54</td>\n",
       "    </tr>\n",
       "    <tr>\n",
       "      <th>1</th>\n",
       "      <td>2014-12-23</td>\n",
       "      <td>2082.17</td>\n",
       "    </tr>\n",
       "    <tr>\n",
       "      <th>2</th>\n",
       "      <td>2014-12-24</td>\n",
       "      <td>2081.88</td>\n",
       "    </tr>\n",
       "    <tr>\n",
       "      <th>3</th>\n",
       "      <td>2014-12-26</td>\n",
       "      <td>2088.77</td>\n",
       "    </tr>\n",
       "    <tr>\n",
       "      <th>4</th>\n",
       "      <td>2014-12-29</td>\n",
       "      <td>2090.57</td>\n",
       "    </tr>\n",
       "  </tbody>\n",
       "</table>\n",
       "</div>"
      ],
      "text/plain": [
       "         Date   S&P500\n",
       "0  2014-12-22  2078.54\n",
       "1  2014-12-23  2082.17\n",
       "2  2014-12-24  2081.88\n",
       "3  2014-12-26  2088.77\n",
       "4  2014-12-29  2090.57"
      ]
     },
     "execution_count": 159,
     "metadata": {},
     "output_type": "execute_result"
    }
   ],
   "source": [
    "df_clean_index.head()"
   ]
  },
  {
   "cell_type": "markdown",
   "metadata": {},
   "source": [
    "#### Limpieza"
   ]
  },
  {
   "cell_type": "markdown",
   "metadata": {},
   "source": [
    "##### Valores duplicados"
   ]
  },
  {
   "cell_type": "code",
   "execution_count": 160,
   "metadata": {},
   "outputs": [
    {
     "name": "stdout",
     "output_type": "stream",
     "text": [
      "Número de filas duplicadas: 0\n"
     ]
    }
   ],
   "source": [
    "# Verificar duplicados\n",
    "duplicados = df_clean_index.duplicated().sum()\n",
    "print(f\"Número de filas duplicadas: {duplicados}\")"
   ]
  },
  {
   "cell_type": "markdown",
   "metadata": {},
   "source": [
    "##### Valores nulos"
   ]
  },
  {
   "cell_type": "code",
   "execution_count": 161,
   "metadata": {},
   "outputs": [
    {
     "name": "stdout",
     "output_type": "stream",
     "text": [
      "Valores nulos por columna:\n",
      "Date      0\n",
      "S&P500    0\n",
      "dtype: int64\n",
      "\n",
      "Porcentaje de valores nulos por columna:\n",
      "Date      0.0\n",
      "S&P500    0.0\n",
      "dtype: float64\n"
     ]
    }
   ],
   "source": [
    "# Verificar valores nulos en el DataFrame\n",
    "valores_nulos = df_clean_index.isnull().sum()\n",
    "print(\"Valores nulos por columna:\")\n",
    "print(valores_nulos)\n",
    "\n",
    "# Porcentaje de valores nulos por columna\n",
    "porcentaje_nulos = (df_clean_index.isnull().sum() / len(df_clean_index)) * 100\n",
    "print(\"\\nPorcentaje de valores nulos por columna:\")\n",
    "print(porcentaje_nulos)"
   ]
  },
  {
   "cell_type": "markdown",
   "metadata": {},
   "source": [
    "No hay valores nulos ni duplicados"
   ]
  },
  {
   "cell_type": "markdown",
   "metadata": {},
   "source": [
    "#### Transformacion"
   ]
  },
  {
   "cell_type": "markdown",
   "metadata": {},
   "source": [
    "Transformamos la variable date a datetime"
   ]
  },
  {
   "cell_type": "code",
   "execution_count": 162,
   "metadata": {},
   "outputs": [],
   "source": [
    "# 'Date' to datetime\n",
    "df_clean_index['Date'] = pd.to_datetime(df_clean_index['Date'])"
   ]
  },
  {
   "cell_type": "code",
   "execution_count": 163,
   "metadata": {},
   "outputs": [
    {
     "name": "stdout",
     "output_type": "stream",
     "text": [
      "<class 'pandas.core.frame.DataFrame'>\n",
      "RangeIndex: 2517 entries, 0 to 2516\n",
      "Data columns (total 2 columns):\n",
      " #   Column  Non-Null Count  Dtype         \n",
      "---  ------  --------------  -----         \n",
      " 0   Date    2517 non-null   datetime64[ns]\n",
      " 1   S&P500  2517 non-null   float64       \n",
      "dtypes: datetime64[ns](1), float64(1)\n",
      "memory usage: 39.5 KB\n"
     ]
    }
   ],
   "source": [
    "df_clean_index.info()"
   ]
  },
  {
   "cell_type": "markdown",
   "metadata": {},
   "source": [
    "Creamos variables derivadas para posibles analisis por periodos separados"
   ]
  },
  {
   "cell_type": "code",
   "execution_count": 164,
   "metadata": {},
   "outputs": [
    {
     "data": {
      "text/html": [
       "<div>\n",
       "<style scoped>\n",
       "    .dataframe tbody tr th:only-of-type {\n",
       "        vertical-align: middle;\n",
       "    }\n",
       "\n",
       "    .dataframe tbody tr th {\n",
       "        vertical-align: top;\n",
       "    }\n",
       "\n",
       "    .dataframe thead th {\n",
       "        text-align: right;\n",
       "    }\n",
       "</style>\n",
       "<table border=\"1\" class=\"dataframe\">\n",
       "  <thead>\n",
       "    <tr style=\"text-align: right;\">\n",
       "      <th></th>\n",
       "      <th>Date</th>\n",
       "      <th>S&amp;P500</th>\n",
       "      <th>Year</th>\n",
       "      <th>Month</th>\n",
       "      <th>Day</th>\n",
       "    </tr>\n",
       "  </thead>\n",
       "  <tbody>\n",
       "    <tr>\n",
       "      <th>0</th>\n",
       "      <td>2014-12-22</td>\n",
       "      <td>2078.54</td>\n",
       "      <td>2014</td>\n",
       "      <td>12</td>\n",
       "      <td>22</td>\n",
       "    </tr>\n",
       "    <tr>\n",
       "      <th>1</th>\n",
       "      <td>2014-12-23</td>\n",
       "      <td>2082.17</td>\n",
       "      <td>2014</td>\n",
       "      <td>12</td>\n",
       "      <td>23</td>\n",
       "    </tr>\n",
       "    <tr>\n",
       "      <th>2</th>\n",
       "      <td>2014-12-24</td>\n",
       "      <td>2081.88</td>\n",
       "      <td>2014</td>\n",
       "      <td>12</td>\n",
       "      <td>24</td>\n",
       "    </tr>\n",
       "    <tr>\n",
       "      <th>3</th>\n",
       "      <td>2014-12-26</td>\n",
       "      <td>2088.77</td>\n",
       "      <td>2014</td>\n",
       "      <td>12</td>\n",
       "      <td>26</td>\n",
       "    </tr>\n",
       "    <tr>\n",
       "      <th>4</th>\n",
       "      <td>2014-12-29</td>\n",
       "      <td>2090.57</td>\n",
       "      <td>2014</td>\n",
       "      <td>12</td>\n",
       "      <td>29</td>\n",
       "    </tr>\n",
       "  </tbody>\n",
       "</table>\n",
       "</div>"
      ],
      "text/plain": [
       "        Date   S&P500  Year  Month  Day\n",
       "0 2014-12-22  2078.54  2014     12   22\n",
       "1 2014-12-23  2082.17  2014     12   23\n",
       "2 2014-12-24  2081.88  2014     12   24\n",
       "3 2014-12-26  2088.77  2014     12   26\n",
       "4 2014-12-29  2090.57  2014     12   29"
      ]
     },
     "execution_count": 164,
     "metadata": {},
     "output_type": "execute_result"
    }
   ],
   "source": [
    "# Variables derivadas dia, mes, año\n",
    "df_clean_index['Year'] = df_clean_index['Date'].dt.year  \n",
    "df_clean_index['Month'] = df_clean_index['Date'].dt.month  \n",
    "df_clean_index['Day'] = df_clean_index['Date'].dt.day  \n",
    "\n",
    "# Verificar las nuevas columnas\n",
    "df_clean_index.head()"
   ]
  },
  {
   "cell_type": "markdown",
   "metadata": {},
   "source": [
    "### Preparacion de los datos df_raw_stocks"
   ]
  },
  {
   "cell_type": "code",
   "execution_count": 24,
   "metadata": {},
   "outputs": [
    {
     "data": {
      "text/html": [
       "<div>\n",
       "<style scoped>\n",
       "    .dataframe tbody tr th:only-of-type {\n",
       "        vertical-align: middle;\n",
       "    }\n",
       "\n",
       "    .dataframe tbody tr th {\n",
       "        vertical-align: top;\n",
       "    }\n",
       "\n",
       "    .dataframe thead th {\n",
       "        text-align: right;\n",
       "    }\n",
       "</style>\n",
       "<table border=\"1\" class=\"dataframe\">\n",
       "  <thead>\n",
       "    <tr style=\"text-align: right;\">\n",
       "      <th></th>\n",
       "      <th>Date</th>\n",
       "      <th>Symbol</th>\n",
       "      <th>Adj Close</th>\n",
       "      <th>Close</th>\n",
       "      <th>High</th>\n",
       "      <th>Low</th>\n",
       "      <th>Open</th>\n",
       "      <th>Volume</th>\n",
       "    </tr>\n",
       "  </thead>\n",
       "  <tbody>\n",
       "    <tr>\n",
       "      <th>0</th>\n",
       "      <td>2010-01-04</td>\n",
       "      <td>MMM</td>\n",
       "      <td>NaN</td>\n",
       "      <td>NaN</td>\n",
       "      <td>NaN</td>\n",
       "      <td>NaN</td>\n",
       "      <td>NaN</td>\n",
       "      <td>NaN</td>\n",
       "    </tr>\n",
       "    <tr>\n",
       "      <th>1</th>\n",
       "      <td>2010-01-05</td>\n",
       "      <td>MMM</td>\n",
       "      <td>NaN</td>\n",
       "      <td>NaN</td>\n",
       "      <td>NaN</td>\n",
       "      <td>NaN</td>\n",
       "      <td>NaN</td>\n",
       "      <td>NaN</td>\n",
       "    </tr>\n",
       "    <tr>\n",
       "      <th>2</th>\n",
       "      <td>2010-01-06</td>\n",
       "      <td>MMM</td>\n",
       "      <td>NaN</td>\n",
       "      <td>NaN</td>\n",
       "      <td>NaN</td>\n",
       "      <td>NaN</td>\n",
       "      <td>NaN</td>\n",
       "      <td>NaN</td>\n",
       "    </tr>\n",
       "    <tr>\n",
       "      <th>3</th>\n",
       "      <td>2010-01-07</td>\n",
       "      <td>MMM</td>\n",
       "      <td>NaN</td>\n",
       "      <td>NaN</td>\n",
       "      <td>NaN</td>\n",
       "      <td>NaN</td>\n",
       "      <td>NaN</td>\n",
       "      <td>NaN</td>\n",
       "    </tr>\n",
       "    <tr>\n",
       "      <th>4</th>\n",
       "      <td>2010-01-08</td>\n",
       "      <td>MMM</td>\n",
       "      <td>NaN</td>\n",
       "      <td>NaN</td>\n",
       "      <td>NaN</td>\n",
       "      <td>NaN</td>\n",
       "      <td>NaN</td>\n",
       "      <td>NaN</td>\n",
       "    </tr>\n",
       "  </tbody>\n",
       "</table>\n",
       "</div>"
      ],
      "text/plain": [
       "         Date Symbol  Adj Close  Close  High  Low  Open  Volume\n",
       "0  2010-01-04    MMM        NaN    NaN   NaN  NaN   NaN     NaN\n",
       "1  2010-01-05    MMM        NaN    NaN   NaN  NaN   NaN     NaN\n",
       "2  2010-01-06    MMM        NaN    NaN   NaN  NaN   NaN     NaN\n",
       "3  2010-01-07    MMM        NaN    NaN   NaN  NaN   NaN     NaN\n",
       "4  2010-01-08    MMM        NaN    NaN   NaN  NaN   NaN     NaN"
      ]
     },
     "execution_count": 24,
     "metadata": {},
     "output_type": "execute_result"
    }
   ],
   "source": [
    "df_clean_stocks.head()"
   ]
  },
  {
   "cell_type": "markdown",
   "metadata": {},
   "source": [
    "#### Limpieza"
   ]
  },
  {
   "cell_type": "markdown",
   "metadata": {},
   "source": [
    "##### Valores duplicados"
   ]
  },
  {
   "cell_type": "code",
   "execution_count": 166,
   "metadata": {},
   "outputs": [
    {
     "name": "stdout",
     "output_type": "stream",
     "text": [
      "Número de filas duplicadas: 0\n"
     ]
    }
   ],
   "source": [
    "# Verificar duplicados\n",
    "duplicados = df_clean_stocks.duplicated().sum()\n",
    "print(f\"Número de filas duplicadas: {duplicados}\")"
   ]
  },
  {
   "cell_type": "markdown",
   "metadata": {},
   "source": [
    "##### Valores nulos"
   ]
  },
  {
   "cell_type": "code",
   "execution_count": 167,
   "metadata": {},
   "outputs": [
    {
     "name": "stdout",
     "output_type": "stream",
     "text": [
      "Valores nulos por columna:\n",
      "Adj Close    1273705\n",
      "Close        1273705\n",
      "High         1273705\n",
      "Low          1273705\n",
      "Open         1273705\n",
      "Volume       1273705\n",
      "dtype: int64\n",
      "\n",
      "Porcentaje de valores nulos por columna:\n",
      "Adj Close    67.337074\n",
      "Close        67.337074\n",
      "High         67.337074\n",
      "Low          67.337074\n",
      "Open         67.337074\n",
      "Volume       67.337074\n",
      "dtype: float64\n"
     ]
    }
   ],
   "source": [
    "# Verificar valores nulos\n",
    "valores_nulos = df_clean_stocks.isnull().sum()\n",
    "print(\"Valores nulos por columna:\")\n",
    "valores_nulos = valores_nulos[valores_nulos > 0]\n",
    "print(valores_nulos)\n",
    "\n",
    "# Porcentaje de valores nulos por columna\n",
    "porcentaje_nulos = (df_clean_stocks.isnull().sum() / len(df_clean_stocks)) * 100\n",
    "print(\"\\nPorcentaje de valores nulos por columna:\")\n",
    "porcentaje_nulos = porcentaje_nulos[porcentaje_nulos > 0]\n",
    "print(porcentaje_nulos)"
   ]
  },
  {
   "cell_type": "markdown",
   "metadata": {},
   "source": [
    "En este caso el porcentaje de valores nulos es bastante alto (67,33%) y dada la importancia de las columnas, podriamos optar por imputar valores.Se debe tomar en cuenta que la desviacion estandar es muy alta por lo que rellenar con la media puede afectar el analisis, por lo que se puede considerar rellenar con valores de dias cercanos.\n",
    "\n",
    "\n"
   ]
  },
  {
   "cell_type": "code",
   "execution_count": 28,
   "metadata": {},
   "outputs": [
    {
     "name": "stdout",
     "output_type": "stream",
     "text": [
      "               Date Symbol  Adj Close  Close  High  Low  Open  Volume\n",
      "0        2010-01-04    MMM        NaN    NaN   NaN  NaN   NaN     NaN\n",
      "1        2010-01-05    MMM        NaN    NaN   NaN  NaN   NaN     NaN\n",
      "2        2010-01-06    MMM        NaN    NaN   NaN  NaN   NaN     NaN\n",
      "3        2010-01-07    MMM        NaN    NaN   NaN  NaN   NaN     NaN\n",
      "4        2010-01-08    MMM        NaN    NaN   NaN  NaN   NaN     NaN\n",
      "...             ...    ...        ...    ...   ...  ...   ...     ...\n",
      "1891531  2024-12-16    ZTS        NaN    NaN   NaN  NaN   NaN     NaN\n",
      "1891532  2024-12-17    ZTS        NaN    NaN   NaN  NaN   NaN     NaN\n",
      "1891533  2024-12-18    ZTS        NaN    NaN   NaN  NaN   NaN     NaN\n",
      "1891534  2024-12-19    ZTS        NaN    NaN   NaN  NaN   NaN     NaN\n",
      "1891535  2024-12-20    ZTS        NaN    NaN   NaN  NaN   NaN     NaN\n",
      "\n",
      "[1273705 rows x 8 columns]\n"
     ]
    }
   ],
   "source": [
    "# Imprimir filas con valores NaN\n",
    "filas_con_nan = df_clean_stocks[df_clean_stocks.isnull().any(axis=1)]\n",
    "print(filas_con_nan)"
   ]
  },
  {
   "cell_type": "code",
   "execution_count": 31,
   "metadata": {},
   "outputs": [
    {
     "name": "stderr",
     "output_type": "stream",
     "text": [
      "C:\\Users\\gabyz\\AppData\\Local\\Temp\\ipykernel_1280\\4029708530.py:2: FutureWarning: A value is trying to be set on a copy of a DataFrame or Series through chained assignment using an inplace method.\n",
      "The behavior will change in pandas 3.0. This inplace method will never work because the intermediate object on which we are setting values always behaves as a copy.\n",
      "\n",
      "For example, when doing 'df[col].method(value, inplace=True)', try using 'df.method({col: value}, inplace=True)' or df[col] = df[col].method(value) instead, to perform the operation inplace on the original object.\n",
      "\n",
      "\n",
      "  df_clean_stocks['Adj Close'].fillna(method='ffill', inplace=True)  # Usar el valor posterior\n",
      "C:\\Users\\gabyz\\AppData\\Local\\Temp\\ipykernel_1280\\4029708530.py:2: FutureWarning: Series.fillna with 'method' is deprecated and will raise in a future version. Use obj.ffill() or obj.bfill() instead.\n",
      "  df_clean_stocks['Adj Close'].fillna(method='ffill', inplace=True)  # Usar el valor posterior\n",
      "C:\\Users\\gabyz\\AppData\\Local\\Temp\\ipykernel_1280\\4029708530.py:3: FutureWarning: A value is trying to be set on a copy of a DataFrame or Series through chained assignment using an inplace method.\n",
      "The behavior will change in pandas 3.0. This inplace method will never work because the intermediate object on which we are setting values always behaves as a copy.\n",
      "\n",
      "For example, when doing 'df[col].method(value, inplace=True)', try using 'df.method({col: value}, inplace=True)' or df[col] = df[col].method(value) instead, to perform the operation inplace on the original object.\n",
      "\n",
      "\n",
      "  df_clean_stocks['Close'].fillna(method='bfill', inplace=True)\n",
      "C:\\Users\\gabyz\\AppData\\Local\\Temp\\ipykernel_1280\\4029708530.py:3: FutureWarning: Series.fillna with 'method' is deprecated and will raise in a future version. Use obj.ffill() or obj.bfill() instead.\n",
      "  df_clean_stocks['Close'].fillna(method='bfill', inplace=True)\n",
      "C:\\Users\\gabyz\\AppData\\Local\\Temp\\ipykernel_1280\\4029708530.py:4: FutureWarning: A value is trying to be set on a copy of a DataFrame or Series through chained assignment using an inplace method.\n",
      "The behavior will change in pandas 3.0. This inplace method will never work because the intermediate object on which we are setting values always behaves as a copy.\n",
      "\n",
      "For example, when doing 'df[col].method(value, inplace=True)', try using 'df.method({col: value}, inplace=True)' or df[col] = df[col].method(value) instead, to perform the operation inplace on the original object.\n",
      "\n",
      "\n",
      "  df_clean_stocks['High'].fillna(method='ffill', inplace=True)  # Usar el valor anterior\n",
      "C:\\Users\\gabyz\\AppData\\Local\\Temp\\ipykernel_1280\\4029708530.py:4: FutureWarning: Series.fillna with 'method' is deprecated and will raise in a future version. Use obj.ffill() or obj.bfill() instead.\n",
      "  df_clean_stocks['High'].fillna(method='ffill', inplace=True)  # Usar el valor anterior\n",
      "C:\\Users\\gabyz\\AppData\\Local\\Temp\\ipykernel_1280\\4029708530.py:5: FutureWarning: A value is trying to be set on a copy of a DataFrame or Series through chained assignment using an inplace method.\n",
      "The behavior will change in pandas 3.0. This inplace method will never work because the intermediate object on which we are setting values always behaves as a copy.\n",
      "\n",
      "For example, when doing 'df[col].method(value, inplace=True)', try using 'df.method({col: value}, inplace=True)' or df[col] = df[col].method(value) instead, to perform the operation inplace on the original object.\n",
      "\n",
      "\n",
      "  df_clean_stocks['Low'].fillna(method='bfill', inplace=True)\n",
      "C:\\Users\\gabyz\\AppData\\Local\\Temp\\ipykernel_1280\\4029708530.py:5: FutureWarning: Series.fillna with 'method' is deprecated and will raise in a future version. Use obj.ffill() or obj.bfill() instead.\n",
      "  df_clean_stocks['Low'].fillna(method='bfill', inplace=True)\n",
      "C:\\Users\\gabyz\\AppData\\Local\\Temp\\ipykernel_1280\\4029708530.py:6: FutureWarning: A value is trying to be set on a copy of a DataFrame or Series through chained assignment using an inplace method.\n",
      "The behavior will change in pandas 3.0. This inplace method will never work because the intermediate object on which we are setting values always behaves as a copy.\n",
      "\n",
      "For example, when doing 'df[col].method(value, inplace=True)', try using 'df.method({col: value}, inplace=True)' or df[col] = df[col].method(value) instead, to perform the operation inplace on the original object.\n",
      "\n",
      "\n",
      "  df_clean_stocks['Open'].fillna(method='ffill', inplace=True)\n",
      "C:\\Users\\gabyz\\AppData\\Local\\Temp\\ipykernel_1280\\4029708530.py:6: FutureWarning: Series.fillna with 'method' is deprecated and will raise in a future version. Use obj.ffill() or obj.bfill() instead.\n",
      "  df_clean_stocks['Open'].fillna(method='ffill', inplace=True)\n",
      "C:\\Users\\gabyz\\AppData\\Local\\Temp\\ipykernel_1280\\4029708530.py:7: FutureWarning: A value is trying to be set on a copy of a DataFrame or Series through chained assignment using an inplace method.\n",
      "The behavior will change in pandas 3.0. This inplace method will never work because the intermediate object on which we are setting values always behaves as a copy.\n",
      "\n",
      "For example, when doing 'df[col].method(value, inplace=True)', try using 'df.method({col: value}, inplace=True)' or df[col] = df[col].method(value) instead, to perform the operation inplace on the original object.\n",
      "\n",
      "\n",
      "  df_clean_stocks['Volume'].fillna(method='bfill', inplace=True)\n",
      "C:\\Users\\gabyz\\AppData\\Local\\Temp\\ipykernel_1280\\4029708530.py:7: FutureWarning: Series.fillna with 'method' is deprecated and will raise in a future version. Use obj.ffill() or obj.bfill() instead.\n",
      "  df_clean_stocks['Volume'].fillna(method='bfill', inplace=True)\n"
     ]
    }
   ],
   "source": [
    "# Valores cercanos\n",
    "df_clean_stocks['Adj Close'].fillna(method='ffill', inplace=True)  # Usar el valor posterior\n",
    "df_clean_stocks['Close'].fillna(method='bfill', inplace=True)  \n",
    "df_clean_stocks['High'].fillna(method='ffill', inplace=True)  # Usar el valor anterior\n",
    "df_clean_stocks['Low'].fillna(method='bfill', inplace=True)  \n",
    "df_clean_stocks['Open'].fillna(method='ffill', inplace=True)  \n",
    "df_clean_stocks['Volume'].fillna(method='bfill', inplace=True) "
   ]
  },
  {
   "cell_type": "markdown",
   "metadata": {},
   "source": [
    "Otro caso que podriamo evaluar es utilizar modelos de ML para predecir los valores faltantes segun otras columnas. Este caso no se realizara pero dejo el posible codigo para realizar este paso."
   ]
  },
  {
   "cell_type": "code",
   "execution_count": 169,
   "metadata": {},
   "outputs": [],
   "source": [
    "#from sklearn.impute import KNNImputer\n",
    "#\n",
    "#imputer = KNNImputer(n_neighbors=5)\n",
    "#df_clean_stocks[['Adj Close', 'Close', 'High', 'Low', 'Open', 'Volume']] = imputer.fit_transform(\n",
    "#    df_clean_stocks[['Adj Close', 'Close', 'High', 'Low', 'Open', 'Volume']]\n",
    "#)"
   ]
  },
  {
   "cell_type": "code",
   "execution_count": 170,
   "metadata": {},
   "outputs": [
    {
     "name": "stdout",
     "output_type": "stream",
     "text": [
      "Valores nulos por columna:\n",
      "Adj Close     3768\n",
      "Close        15072\n",
      "High          3768\n",
      "Low          15072\n",
      "Open          3768\n",
      "Volume       15072\n",
      "dtype: int64\n",
      "\n",
      "Porcentaje de valores nulos por columna:\n",
      "Adj Close    0.199203\n",
      "Close        0.796813\n",
      "High         0.199203\n",
      "Low          0.796813\n",
      "Open         0.199203\n",
      "Volume       0.796813\n",
      "dtype: float64\n"
     ]
    }
   ],
   "source": [
    "# Verificar valores nulos\n",
    "valores_nulos = df_clean_stocks.isnull().sum()\n",
    "print(\"Valores nulos por columna:\")\n",
    "valores_nulos = valores_nulos[valores_nulos > 0]\n",
    "print(valores_nulos)\n",
    "\n",
    "# Porcentaje de valores nulos por columna\n",
    "porcentaje_nulos = (df_clean_stocks.isnull().sum() / len(df_clean_stocks)) * 100\n",
    "print(\"\\nPorcentaje de valores nulos por columna:\")\n",
    "porcentaje_nulos = porcentaje_nulos[porcentaje_nulos > 0]\n",
    "print(porcentaje_nulos)"
   ]
  },
  {
   "cell_type": "markdown",
   "metadata": {},
   "source": [
    "Se rellenaron las instancias con los valores cercanos, sin embargo siguen exitiendo valores nulos. En este caso el porcentaje es bajo, por lo que se puede considerar eliminar estas filas."
   ]
  },
  {
   "cell_type": "code",
   "execution_count": 171,
   "metadata": {},
   "outputs": [
    {
     "name": "stdout",
     "output_type": "stream",
     "text": [
      "Filas restantes: 1872696\n"
     ]
    }
   ],
   "source": [
    "# Eliminar filas con valores nulos\n",
    "df_clean_stocks = df_clean_stocks.dropna()\n",
    "\n",
    "# Verificar el número de filas después de eliminar las filas nulas\n",
    "print(f\"Filas restantes: {len(df_clean_stocks)}\")\n"
   ]
  },
  {
   "cell_type": "code",
   "execution_count": 172,
   "metadata": {},
   "outputs": [
    {
     "name": "stdout",
     "output_type": "stream",
     "text": [
      "Valores nulos por columna:\n",
      "Series([], dtype: int64)\n"
     ]
    }
   ],
   "source": [
    "# Verificar valores nulos\n",
    "valores_nulos = df_clean_stocks.isnull().sum()\n",
    "print(\"Valores nulos por columna:\")\n",
    "valores_nulos = valores_nulos[valores_nulos > 0]\n",
    "print(valores_nulos)\n"
   ]
  },
  {
   "cell_type": "markdown",
   "metadata": {},
   "source": [
    "#### Transformacion"
   ]
  },
  {
   "cell_type": "code",
   "execution_count": 176,
   "metadata": {},
   "outputs": [
    {
     "name": "stdout",
     "output_type": "stream",
     "text": [
      "Date         datetime64[ns]\n",
      "Symbol               object\n",
      "Adj Close           float64\n",
      "Close               float64\n",
      "High                float64\n",
      "Low                 float64\n",
      "Open                float64\n",
      "Volume                int64\n",
      "Year                  int32\n",
      "Month                 int32\n",
      "Day                   int32\n",
      "dtype: object\n"
     ]
    }
   ],
   "source": [
    "# 'Date' to datetime\n",
    "df_clean_stocks['Date'] = pd.to_datetime(df_clean_stocks['Date'])\n",
    "\n",
    "# Volume to int\n",
    "df_clean_stocks['Volume'] = df_clean_stocks['Volume'].astype('int')\n",
    "\n",
    "\n",
    "# Verificar los cambios\n",
    "print(df_clean_stocks.dtypes)"
   ]
  },
  {
   "cell_type": "markdown",
   "metadata": {},
   "source": [
    "Creamos variables derivadas para posibles analisis por periodos separados"
   ]
  },
  {
   "cell_type": "code",
   "execution_count": 174,
   "metadata": {},
   "outputs": [
    {
     "data": {
      "text/html": [
       "<div>\n",
       "<style scoped>\n",
       "    .dataframe tbody tr th:only-of-type {\n",
       "        vertical-align: middle;\n",
       "    }\n",
       "\n",
       "    .dataframe tbody tr th {\n",
       "        vertical-align: top;\n",
       "    }\n",
       "\n",
       "    .dataframe thead th {\n",
       "        text-align: right;\n",
       "    }\n",
       "</style>\n",
       "<table border=\"1\" class=\"dataframe\">\n",
       "  <thead>\n",
       "    <tr style=\"text-align: right;\">\n",
       "      <th></th>\n",
       "      <th>Date</th>\n",
       "      <th>Symbol</th>\n",
       "      <th>Adj Close</th>\n",
       "      <th>Close</th>\n",
       "      <th>High</th>\n",
       "      <th>Low</th>\n",
       "      <th>Open</th>\n",
       "      <th>Volume</th>\n",
       "      <th>Year</th>\n",
       "      <th>Month</th>\n",
       "      <th>Day</th>\n",
       "    </tr>\n",
       "  </thead>\n",
       "  <tbody>\n",
       "    <tr>\n",
       "      <th>3768</th>\n",
       "      <td>2010-01-04</td>\n",
       "      <td>AOS</td>\n",
       "      <td>5.937266</td>\n",
       "      <td>7.435000</td>\n",
       "      <td>7.480000</td>\n",
       "      <td>7.261667</td>\n",
       "      <td>7.295000</td>\n",
       "      <td>1104600</td>\n",
       "      <td>2010</td>\n",
       "      <td>1</td>\n",
       "      <td>4</td>\n",
       "    </tr>\n",
       "    <tr>\n",
       "      <th>3769</th>\n",
       "      <td>2010-01-05</td>\n",
       "      <td>AOS</td>\n",
       "      <td>5.861404</td>\n",
       "      <td>7.340000</td>\n",
       "      <td>7.431667</td>\n",
       "      <td>7.308333</td>\n",
       "      <td>7.431667</td>\n",
       "      <td>1207200</td>\n",
       "      <td>2010</td>\n",
       "      <td>1</td>\n",
       "      <td>5</td>\n",
       "    </tr>\n",
       "    <tr>\n",
       "      <th>3770</th>\n",
       "      <td>2010-01-06</td>\n",
       "      <td>AOS</td>\n",
       "      <td>5.864068</td>\n",
       "      <td>7.343333</td>\n",
       "      <td>7.405000</td>\n",
       "      <td>7.301667</td>\n",
       "      <td>7.335000</td>\n",
       "      <td>663000</td>\n",
       "      <td>2010</td>\n",
       "      <td>1</td>\n",
       "      <td>6</td>\n",
       "    </tr>\n",
       "    <tr>\n",
       "      <th>3771</th>\n",
       "      <td>2010-01-07</td>\n",
       "      <td>AOS</td>\n",
       "      <td>5.881369</td>\n",
       "      <td>7.365000</td>\n",
       "      <td>7.425000</td>\n",
       "      <td>7.311667</td>\n",
       "      <td>7.356667</td>\n",
       "      <td>564000</td>\n",
       "      <td>2010</td>\n",
       "      <td>1</td>\n",
       "      <td>7</td>\n",
       "    </tr>\n",
       "    <tr>\n",
       "      <th>3772</th>\n",
       "      <td>2010-01-08</td>\n",
       "      <td>AOS</td>\n",
       "      <td>5.967879</td>\n",
       "      <td>7.473333</td>\n",
       "      <td>7.485000</td>\n",
       "      <td>7.311667</td>\n",
       "      <td>7.331667</td>\n",
       "      <td>504600</td>\n",
       "      <td>2010</td>\n",
       "      <td>1</td>\n",
       "      <td>8</td>\n",
       "    </tr>\n",
       "  </tbody>\n",
       "</table>\n",
       "</div>"
      ],
      "text/plain": [
       "           Date Symbol  Adj Close     Close      High       Low      Open  \\\n",
       "3768 2010-01-04    AOS   5.937266  7.435000  7.480000  7.261667  7.295000   \n",
       "3769 2010-01-05    AOS   5.861404  7.340000  7.431667  7.308333  7.431667   \n",
       "3770 2010-01-06    AOS   5.864068  7.343333  7.405000  7.301667  7.335000   \n",
       "3771 2010-01-07    AOS   5.881369  7.365000  7.425000  7.311667  7.356667   \n",
       "3772 2010-01-08    AOS   5.967879  7.473333  7.485000  7.311667  7.331667   \n",
       "\n",
       "       Volume  Year  Month  Day  \n",
       "3768  1104600  2010      1    4  \n",
       "3769  1207200  2010      1    5  \n",
       "3770   663000  2010      1    6  \n",
       "3771   564000  2010      1    7  \n",
       "3772   504600  2010      1    8  "
      ]
     },
     "execution_count": 174,
     "metadata": {},
     "output_type": "execute_result"
    }
   ],
   "source": [
    "# Variables derivadas dia, mes, año\n",
    "df_clean_stocks['Year'] = df_clean_stocks['Date'].dt.year  \n",
    "df_clean_stocks['Month'] = df_clean_stocks['Date'].dt.month  \n",
    "df_clean_stocks['Day'] = df_clean_stocks['Date'].dt.day  \n",
    "\n",
    "# Verificar las nuevas columnas\n",
    "df_clean_stocks.head()"
   ]
  },
  {
   "cell_type": "markdown",
   "metadata": {},
   "source": [
    "### Guardar Data"
   ]
  },
  {
   "cell_type": "code",
   "execution_count": 178,
   "metadata": {},
   "outputs": [
    {
     "name": "stdout",
     "output_type": "stream",
     "text": [
      "Archivo guardado: ../data/clean/df_clean_companies.csv\n",
      "Archivo guardado: ../data/clean/df_clean_index.csv\n",
      "Archivo guardado: ../data/clean/df_clean_stocks.csv\n"
     ]
    }
   ],
   "source": [
    "dataframes = {'df_clean_companies': df_clean_companies, 'df_clean_index': df_clean_index, 'df_clean_stocks': df_clean_stocks}\n",
    "\n",
    "for name, df in dataframes.items():\n",
    "    file_path = f\"../data/clean/{name}.csv\"\n",
    "    df.to_csv(file_path, index=False)\n",
    "    print(f\"Archivo guardado: {file_path}\")"
   ]
  }
 ],
 "metadata": {
  "kernelspec": {
   "display_name": "Python 3",
   "language": "python",
   "name": "python3"
  },
  "language_info": {
   "codemirror_mode": {
    "name": "ipython",
    "version": 3
   },
   "file_extension": ".py",
   "mimetype": "text/x-python",
   "name": "python",
   "nbconvert_exporter": "python",
   "pygments_lexer": "ipython3",
   "version": "3.12.4"
  }
 },
 "nbformat": 4,
 "nbformat_minor": 4
}
